{
 "cells": [
  {
   "cell_type": "markdown",
   "id": "7c8037dd",
   "metadata": {},
   "source": [
    "## FreeCodeCamp - Data Analysis with Python\n",
    "### Project 1 : Mean-Variance-Standard Deviation Calculator"
   ]
  },
  {
   "cell_type": "code",
   "execution_count": 1,
   "id": "d0745a71",
   "metadata": {},
   "outputs": [],
   "source": [
    "import numpy as np"
   ]
  },
  {
   "cell_type": "code",
   "execution_count": 2,
   "id": "fdeca084",
   "metadata": {},
   "outputs": [],
   "source": [
    "def calculate(l):\n",
    "  if len(l) == 9:\n",
    "    calculations = {}\n",
    "    arr = np.array(l)\n",
    "    arr.shape = (3, 3)\n",
    "    calculations['mean'] = [list(arr.mean(axis=0)), list(arr.mean(axis=1)), arr.mean()]\n",
    "    calculations['variance'] = [list(arr.var(axis=0)), list(arr.var(axis=1)), arr.var()]\n",
    "    calculations['standard deviation'] = [list(arr.std(axis=0)), list(arr.std(axis=1)), arr.std()]\n",
    "    calculations['max'] = [list(arr.max(axis=0)), list(arr.max(axis=1)), arr.max()]\n",
    "    calculations['min'] = [list(arr.min(axis=0)), list(arr.min(axis=1)), arr.min()]\n",
    "    calculations['sum'] = [list(arr.sum(axis=0)), list(arr.sum(axis=1)), arr.sum()]\n",
    "  else: raise ValueError(\"List must contain nine numbers.\")\n",
    "  return calculations"
   ]
  },
  {
   "cell_type": "code",
   "execution_count": 4,
   "id": "254652e5",
   "metadata": {},
   "outputs": [
    {
     "name": "stdout",
     "output_type": "stream",
     "text": [
      "{'mean': [[3.0, 4.0, 5.0], [1.0, 4.0, 7.0], 4.0], 'variance': [[6.0, 6.0, 6.0], [0.6666666666666666, 0.6666666666666666, 0.6666666666666666], 6.666666666666667], 'standard deviation': [[2.449489742783178, 2.449489742783178, 2.449489742783178], [0.816496580927726, 0.816496580927726, 0.816496580927726], 2.581988897471611], 'max': [[6, 7, 8], [2, 5, 8], 8], 'min': [[0, 1, 2], [0, 3, 6], 0], 'sum': [[9, 12, 15], [3, 12, 21], 36]}\n"
     ]
    }
   ],
   "source": [
    "print(calculate([0,1,2,3,4,5,6,7,8]))"
   ]
  }
 ],
 "metadata": {
  "kernelspec": {
   "display_name": "Python 3 (ipykernel)",
   "language": "python",
   "name": "python3"
  },
  "language_info": {
   "codemirror_mode": {
    "name": "ipython",
    "version": 3
   },
   "file_extension": ".py",
   "mimetype": "text/x-python",
   "name": "python",
   "nbconvert_exporter": "python",
   "pygments_lexer": "ipython3",
   "version": "3.9.7"
  }
 },
 "nbformat": 4,
 "nbformat_minor": 5
}
